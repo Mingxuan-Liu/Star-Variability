{
 "cells": [
  {
   "cell_type": "code",
   "execution_count": 77,
   "id": "b0a39bf6-6f6c-4b31-af45-e82e575755d0",
   "metadata": {
    "execution": {
     "iopub.execute_input": "2022-09-26T14:22:12.694455Z",
     "iopub.status.busy": "2022-09-26T14:22:12.694455Z",
     "iopub.status.idle": "2022-09-26T14:22:14.232998Z",
     "shell.execute_reply": "2022-09-26T14:22:14.232998Z",
     "shell.execute_reply.started": "2022-09-26T14:22:12.694455Z"
    },
    "tags": [],
    "pycharm": {
     "name": "#%%\n"
    }
   },
   "outputs": [],
   "source": [
    "# import necessary packages to search for targets with continuous observation\n",
    "import numpy as np\n",
    "import pandas as pd\n",
    "import lightkurve as lk  # main package used here\n",
    "from astropy.coordinates import Angle"
   ]
  },
  {
   "cell_type": "code",
   "execution_count": 22,
   "id": "38a98947-e052-4b15-b76a-fa256c1636af",
   "metadata": {
    "execution": {
     "iopub.execute_input": "2022-09-26T14:22:14.232998Z",
     "iopub.status.busy": "2022-09-26T14:22:14.232998Z",
     "iopub.status.idle": "2022-09-26T14:22:14.248502Z",
     "shell.execute_reply": "2022-09-26T14:22:14.248502Z",
     "shell.execute_reply.started": "2022-09-26T14:22:14.232998Z"
    },
    "tags": [],
    "pycharm": {
     "name": "#%%\n"
    }
   },
   "outputs": [],
   "source": [
    "# this function is designed to search targets from the data set\n",
    "# with given target WISE ID and returns available sectors of data\n",
    "def search_target(target_name):\n",
    "    # subtract the substring with char index\n",
    "    RA_Hour = target_name[1:3]\n",
    "    RA_Min = target_name[3:5]\n",
    "    RA_Sec = target_name[5:10]\n",
    "    RA_String = RA_Hour+'h'+RA_Min+'m'+RA_Sec+'s'\n",
    "    # obtain the hour angle with astroPy function Angle()\n",
    "    RA = str(np.around(Angle(RA_String).degree, 7))\n",
    "\n",
    "    # similar to the procedures in RA\n",
    "    DEC_Degree = target_name[10:13]\n",
    "    DEC_Min = target_name[13:15]\n",
    "    DEC_Sec = target_name[15:19]\n",
    "    DEC_String = DEC_Degree+'d'+DEC_Min+'m'+DEC_Sec+'s'\n",
    "    DEC = np.around(Angle(DEC_String).degree, 7)\n",
    "    if DEC > 0:\n",
    "        DEC = '+' + str(DEC)\n",
    "    else:\n",
    "        DEC = str(DEC)\n",
    "    targetString = RA + DEC\n",
    "    pfs = lk.search_tesscut(targetString)\n",
    "    return pfs"
   ]
  },
  {
   "cell_type": "code",
   "execution_count": 88,
   "id": "c925aed9-020a-43df-bbc7-183d20dfaa6b",
   "metadata": {
    "pycharm": {
     "name": "#%%\n"
    }
   },
   "outputs": [],
   "source": [
    "# this function takes target pixel files and check whether the \n",
    "# corresponding object has continuous observation across sectors\n",
    "def check_continuity(sec_num, pixel_file):\n",
    "    # initialize the continuity flag as false\n",
    "    continuous = False\n",
    "    # traverse all missions\n",
    "    for i in range(len(pixel_file.mission)-sec_num):\n",
    "        # extract the sector number from the mission string\n",
    "        curr_sec = int(pixel_file.mission[i].split()[-1])\n",
    "        next_sec = int(pixel_file.mission[i+sec_num].split()[-1])\n",
    "        # if the next sector is numerically adjacent to the current\n",
    "        # sector, break the for loop and return true\n",
    "        if next_sec-curr_sec == sec_num:\n",
    "            continuous = True\n",
    "            break\n",
    "        else:\n",
    "            continue\n",
    "    return continuous"
   ]
  },
  {
   "cell_type": "code",
   "execution_count": 107,
   "outputs": [],
   "source": [
    "# this function traverses all targets in a given object type\n",
    "# and return a list of targets with continuous observation\n",
    "def search_continuity(ID, type):\n",
    "    list = []\n",
    "\n",
    "    for i in range(len(ID)):\n",
    "        target_name = ID[i]\n",
    "        pfs = search_target(target_name)\n",
    "        if len(pfs) > 1:\n",
    "            continuous = check_continuity(sec_num=2, pixel_file=pfs)\n",
    "            if continuous:\n",
    "                list.append([target_name, type])\n",
    "\n",
    "    return list"
   ],
   "metadata": {
    "collapsed": false,
    "pycharm": {
     "name": "#%%\n"
    }
   }
  },
  {
   "cell_type": "code",
   "execution_count": 9,
   "outputs": [],
   "source": [
    "# this function returns pandas dataframe from the TESS spreadsheet\n",
    "def read_tess(sheetName):\n",
    "    # open the Excel sheet that restores the tess data\n",
    "    TESS = pd.ExcelFile('TESSRechecks_ALLDATA.xlsx')\n",
    "    # select specified sheets\n",
    "    sheet = pd.read_excel(TESS, sheetName)\n",
    "    # extract only the list of WISE ID from the sheet\n",
    "    return sheet['WISEID']"
   ],
   "metadata": {
    "collapsed": false,
    "pycharm": {
     "name": "#%%\n"
    }
   }
  },
  {
   "cell_type": "code",
   "execution_count": 23,
   "outputs": [],
   "source": [
    "DD = read_tess('DebrisDisk').dropna()\n",
    "EDD = read_tess('ExtremeDebrisDisk').dropna()\n",
    "LateType = read_tess('LateTypeDisk').dropna()\n",
    "Herbig = read_tess('HerbigAeBe+CBe').dropna()\n",
    "YSO = read_tess('YSOE+YSOM').dropna()"
   ],
   "metadata": {
    "collapsed": false,
    "pycharm": {
     "name": "#%%\n"
    }
   }
  },
  {
   "cell_type": "code",
   "execution_count": 108,
   "outputs": [],
   "source": [
    "DD_list = search_continuity(DD, \"Debris Disk\")\n",
    "EDD_list = search_continuity(EDD, \"Extreme Debris Disk\")\n",
    "LateType_list = search_continuity(LateType, \"Late Type Disk\")\n",
    "Herbig_list = search_continuity(Herbig, \"HerbigAeBe\")\n",
    "YSO_list = search_continuity(YSO, \"YSO\")"
   ],
   "metadata": {
    "collapsed": false,
    "pycharm": {
     "name": "#%%\n"
    }
   }
  },
  {
   "cell_type": "code",
   "execution_count": 109,
   "outputs": [],
   "source": [
    "combined_list = [*DD_list, *EDD_list, *LateType_list, *Herbig_list, *YSO_list]"
   ],
   "metadata": {
    "collapsed": false,
    "pycharm": {
     "name": "#%%\n"
    }
   }
  },
  {
   "cell_type": "code",
   "execution_count": 110,
   "outputs": [
    {
     "name": "stdout",
     "output_type": "stream",
     "text": [
      "49\n"
     ]
    }
   ],
   "source": [
    "print(len(combined_list))"
   ],
   "metadata": {
    "collapsed": false,
    "pycharm": {
     "name": "#%%\n"
    }
   }
  }
 ],
 "metadata": {
  "kernelspec": {
   "display_name": "Python 3 (ipykernel)",
   "language": "python",
   "name": "python3"
  },
  "language_info": {
   "codemirror_mode": {
    "name": "ipython",
    "version": 3
   },
   "file_extension": ".py",
   "mimetype": "text/x-python",
   "name": "python",
   "nbconvert_exporter": "python",
   "pygments_lexer": "ipython3",
   "version": "3.9.12"
  }
 },
 "nbformat": 4,
 "nbformat_minor": 5
}