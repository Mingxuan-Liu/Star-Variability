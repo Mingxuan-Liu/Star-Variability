{
 "cells": [
  {
   "cell_type": "markdown",
   "id": "348301e0-0e82-46eb-b812-3a9088306a19",
   "metadata": {},
   "source": [
    "# Comparison of Object Type Distribution"
   ]
  },
  {
   "cell_type": "code",
   "execution_count": 10,
   "id": "931a22f3-a6ea-4809-8453-502f793a3098",
   "metadata": {
    "execution": {
     "iopub.execute_input": "2022-07-27T02:48:46.284327Z",
     "iopub.status.busy": "2022-07-27T02:48:46.283639Z",
     "iopub.status.idle": "2022-07-27T02:48:46.291228Z",
     "shell.execute_reply": "2022-07-27T02:48:46.289789Z",
     "shell.execute_reply.started": "2022-07-27T02:48:46.284262Z"
    },
    "tags": []
   },
   "outputs": [],
   "source": [
    "import numpy as np\n",
    "import pandas as pd\n",
    "import matplotlib.pyplot as plt"
   ]
  },
  {
   "cell_type": "code",
   "execution_count": 8,
   "id": "d104565f-f4ee-41cc-952b-caf919c4fabc",
   "metadata": {
    "execution": {
     "iopub.execute_input": "2022-07-27T02:48:36.671552Z",
     "iopub.status.busy": "2022-07-27T02:48:36.670836Z",
     "iopub.status.idle": "2022-07-27T02:48:36.681787Z",
     "shell.execute_reply": "2022-07-27T02:48:36.680819Z",
     "shell.execute_reply.started": "2022-07-27T02:48:36.671486Z"
    },
    "tags": []
   },
   "outputs": [],
   "source": [
    "# this function returns pandas dataframe from the TESS spread sheet\n",
    "def read_tess(sheetName):\n",
    "    TESS = pd.ExcelFile('TESSRechecks_ALLDATA.xlsx')\n",
    "    sheet = pd.read_excel(TESS, sheetName)\n",
    "    sheet = sheet[['WISEID',\n",
    "                   'Amplitude mmags',\n",
    "                   'Overall assessment: PV, QPV, IV, LAQV, LAIV, NV']]\n",
    "    sheet = sheet.rename(columns={'Amplitude mmags': 'Amplitude',\n",
    "                                  'Overall assessment: PV, QPV, IV, LAQV, LAIV, NV': 'Assessment'})\n",
    "    return sheet"
   ]
  },
  {
   "cell_type": "code",
   "execution_count": 9,
   "id": "f467a96d-533f-4e3d-ae21-ef317a366048",
   "metadata": {
    "execution": {
     "iopub.execute_input": "2022-07-27T02:48:36.872047Z",
     "iopub.status.busy": "2022-07-27T02:48:36.871357Z",
     "iopub.status.idle": "2022-07-27T02:48:36.890495Z",
     "shell.execute_reply": "2022-07-27T02:48:36.889728Z",
     "shell.execute_reply.started": "2022-07-27T02:48:36.871982Z"
    },
    "tags": []
   },
   "outputs": [],
   "source": [
    "def create_pie(df):\n",
    "    labels = 'PV', 'QPV', 'IV', 'LAQV', 'NV'\n",
    "    if 'PV' in df.Assessment:\n",
    "        PV = df.Assessment.value_counts().PV\n",
    "        QPV = df.Assessment.value_counts().QPV\n",
    "        IV = df.Assessment.value_counts().IV\n",
    "        LAQV = df.Assessment.value_counts().LAQV\n",
    "        NV = df.Assessment.value_counts().NV\n",
    "        freq = [PV, QPV, IV, LAQV, NV]\n",
    "\n",
    "        fig, ax = plt.subplots()\n",
    "        ax.pie(freq, labels=labels, autopct='%1.1f%%',\n",
    "               startangle=90)\n",
    "        ax.axis('equal')  # Equal aspect ratio ensures that pie is drawn as a circle\n",
    "\n",
    "        plt.show()\n",
    "    else:\n",
    "        QPV = df.Assessment.value_counts().QPV\n",
    "        IV = df.Assessment.value_counts().IV\n",
    "        LAQV = df.Assessment.value_counts().LAQV\n",
    "        NV = df.Assessment.value_counts().NV\n",
    "        freq = [QPV, IV, LAQV, NV]\n",
    "\n",
    "        fig, ax = plt.subplots()\n",
    "        ax.pie(freq, labels=labels, autopct='%1.1f%%',\n",
    "               startangle=90)\n",
    "        ax.axis('equal')  # Equal aspect ratio ensures that pie is drawn as a circle\n",
    "\n",
    "        plt.show()"
   ]
  },
  {
   "cell_type": "code",
   "execution_count": 14,
   "id": "fa78be87-ee4a-4044-9fbb-a7ebd054eb8e",
   "metadata": {
    "execution": {
     "iopub.execute_input": "2022-07-27T02:51:33.600447Z",
     "iopub.status.busy": "2022-07-27T02:51:33.599705Z",
     "iopub.status.idle": "2022-07-27T02:51:34.133440Z",
     "shell.execute_reply": "2022-07-27T02:51:34.133137Z",
     "shell.execute_reply.started": "2022-07-27T02:51:33.600382Z"
    },
    "tags": []
   },
   "outputs": [
    {
     "name": "stdout",
     "output_type": "stream",
     "text": [
      "(67, 3)\n",
      "(61, 3)\n",
      "(29, 3)\n",
      "(24, 3)\n"
     ]
    }
   ],
   "source": [
    "# obtain the dataframes by reading from specific sheets\n",
    "print(np.shape(read_tess('YSOE+YSOM')))\n",
    "YSO = read_tess('YSOE+YSOM').dropna()\n",
    "print(np.shape(YSO))\n",
    "print(np.shape(read_tess('ExtremeDebrisDisk')))\n",
    "EDD = read_tess('ExtremeDebrisDisk').dropna()\n",
    "print(np.shape(EDD))"
   ]
  },
  {
   "cell_type": "code",
   "execution_count": 46,
   "id": "56f0d431-4868-4d79-9c53-54054135482e",
   "metadata": {
    "execution": {
     "iopub.execute_input": "2022-07-26T04:39:10.634351Z",
     "iopub.status.busy": "2022-07-26T04:39:10.634070Z",
     "iopub.status.idle": "2022-07-26T04:39:10.640022Z",
     "shell.execute_reply": "2022-07-26T04:39:10.639396Z",
     "shell.execute_reply.started": "2022-07-26T04:39:10.634323Z"
    },
    "tags": []
   },
   "outputs": [],
   "source": [
    "# replace LAIV in the 'Assessment' column with NV\n",
    "YSO.loc[YSO['Assessment'] == 'LAIV', 'Assessment'] = 'NV'\n",
    "EDD.loc[EDD['Assessment'] == 'LAIV', 'Assessment'] = 'NV'"
   ]
  },
  {
   "cell_type": "code",
   "execution_count": 92,
   "id": "dd326bc4-dcac-4339-861a-cf343d8c3496",
   "metadata": {
    "execution": {
     "iopub.execute_input": "2022-07-26T05:10:38.828243Z",
     "iopub.status.busy": "2022-07-26T05:10:38.827844Z",
     "iopub.status.idle": "2022-07-26T05:10:38.938198Z",
     "shell.execute_reply": "2022-07-26T05:10:38.937823Z",
     "shell.execute_reply.started": "2022-07-26T05:10:38.828211Z"
    },
    "tags": []
   },
   "outputs": [
    {
     "data": {
      "image/png": "[encoded data removed]",
      "text/plain": [
       "<Figure size 432x288 with 1 Axes>"
      ]
     },
     "metadata": {},
     "output_type": "display_data"
    }
   ],
   "source": [
    "labels = 'PV', 'QPV', 'IV', 'LAQV', 'NV'\n",
    "PV = YSO.Assessment.value_counts().PV\n",
    "QPV = YSO.Assessment.value_counts().QPV\n",
    "IV = YSO.Assessment.value_counts().IV\n",
    "LAQV = YSO.Assessment.value_counts().LAQV\n",
    "NV = YSO.Assessment.value_counts().NV\n",
    "freq = [PV, QPV, IV, LAQV, NV]\n",
    "\n",
    "fig, ax = plt.subplots()\n",
    "ax.pie(freq, labels=labels, startangle=90)\n",
    "ax.axis('equal')  # Equal aspect ratio ensures that pie is drawn as a circle\n",
    "total = sum(freq)\n",
    "plt.legend(\n",
    "    loc='upper left',\n",
    "    labels=['%s, %1.1f%%' % (\n",
    "        l, (float(s) / total) * 100)\n",
    "            for l, s in zip(labels, freq)],\n",
    "    prop={'size': 11},\n",
    "    bbox_to_anchor=(0.0, 1),\n",
    "    bbox_transform=fig.transFigure\n",
    ")\n",
    "plt.savefig('YSODistribution.png')\n",
    "plt.show()"
   ]
  },
  {
   "cell_type": "code",
   "execution_count": 93,
   "id": "16d17264-f00f-4aee-ad48-a0751fe63ed1",
   "metadata": {
    "execution": {
     "iopub.execute_input": "2022-07-26T05:11:19.605303Z",
     "iopub.status.busy": "2022-07-26T05:11:19.604580Z",
     "iopub.status.idle": "2022-07-26T05:11:19.711307Z",
     "shell.execute_reply": "2022-07-26T05:11:19.710978Z",
     "shell.execute_reply.started": "2022-07-26T05:11:19.605239Z"
    },
    "tags": []
   },
   "outputs": [
    {
     "data": {
      "image/png": "[encoded data removed]",
      "text/plain": [
       "<Figure size 432x288 with 1 Axes>"
      ]
     },
     "metadata": {},
     "output_type": "display_data"
    }
   ],
   "source": [
    "labels = 'PV', 'QPV', 'IV', 'LAQV', 'NV'\n",
    "PV = 0\n",
    "QPV = EDD.Assessment.value_counts().QPV\n",
    "IV = EDD.Assessment.value_counts().IV\n",
    "LAQV = EDD.Assessment.value_counts().LAQV\n",
    "NV = EDD.Assessment.value_counts().NV\n",
    "freq = [PV, QPV, IV, LAQV, NV]\n",
    "\n",
    "fig, ax = plt.subplots()\n",
    "ax.pie(freq, labels=labels, startangle=90)\n",
    "ax.axis('equal')  # Equal aspect ratio ensures that pie is drawn as a circle\n",
    "total = sum(freq)\n",
    "plt.legend(\n",
    "    loc='upper left',\n",
    "    labels=['%s, %1.1f%%' % (\n",
    "        l, (float(s) / total) * 100)\n",
    "            for l, s in zip(labels, freq)],\n",
    "    prop={'size': 11},\n",
    "    bbox_to_anchor=(0.0, 1),\n",
    "    bbox_transform=fig.transFigure\n",
    ")\n",
    "plt.savefig('EDDDistribution.png')\n",
    "plt.show()"
   ]
  }
 ],
 "metadata": {
  "kernelspec": {
   "display_name": "Python 3 (ipykernel)",
   "language": "python",
   "name": "python3"
  },
  "language_info": {
   "codemirror_mode": {
    "name": "ipython",
    "version": 3
   },
   "file_extension": ".py",
   "mimetype": "text/x-python",
   "name": "python",
   "nbconvert_exporter": "python",
   "pygments_lexer": "ipython3",
   "version": "3.9.7"
  }
 },
 "nbformat": 4,
 "nbformat_minor": 5
}
